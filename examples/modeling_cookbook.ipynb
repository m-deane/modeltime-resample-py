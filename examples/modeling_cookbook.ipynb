{
 "cells": [
  {
   "cell_type": "code",
   "execution_count": 1,
   "metadata": {},
   "outputs": [
    {
     "name": "stdout",
     "output_type": "stream",
     "text": [
      "Cookbook for modeltime_resample_py.modeling functions\n",
      "\n",
      "--- Generating Sample Data & CV Splits ---\n",
      "Cleaned data shape: (200, 7)\n",
      "Cleaned data head:\n",
      "         date      value  time_idx  month      lag_1  promo_A       temp\n",
      "0 2020-01-01  49.570290         0      1  49.570290        1  19.621738\n",
      "1 2020-01-02  58.807933         1      1  49.570290        0  24.010672\n",
      "2 2020-01-03  57.798239         2      1  58.807933        0  18.301305\n",
      "3 2020-01-04  52.364461         3      1  57.798239        0  18.528561\n",
      "4 2020-01-05  61.426659         4      1  52.364461        0  20.413049\n",
      "\n",
      "Generated 4 CV splits.\n",
      "\n",
      "--- Fitting Resamples ---\n",
      "\n",
      "Example 1: fit_resamples with feature_columns\n",
      "Shape of resamples_results_df: (470, 9)\n",
      "Resamples results head:\n",
      "                                                        actuals  fitted_values  \\\n",
      "date       slice_id model_id                                                    \n",
      "2020-01-01 0        linear_regression_with_features  49.570290      55.272970   \n",
      "2020-01-02 0        linear_regression_with_features  58.807933      56.797817   \n",
      "\n",
      "                                                     predictions  residuals  \\\n",
      "date       slice_id model_id                                                  \n",
      "2020-01-01 0        linear_regression_with_features          NaN  -5.702679   \n",
      "2020-01-02 0        linear_regression_with_features          NaN   2.010116   \n",
      "\n",
      "                                                    period_type  \\\n",
      "date       slice_id model_id                                      \n",
      "2020-01-01 0        linear_regression_with_features       train   \n",
      "2020-01-02 0        linear_regression_with_features       train   \n",
      "\n",
      "                                                    train_start_date  \\\n",
      "date       slice_id model_id                                           \n",
      "2020-01-01 0        linear_regression_with_features       2020-01-01   \n",
      "2020-01-02 0        linear_regression_with_features       2020-01-01   \n",
      "\n",
      "                                                    train_end_date  \\\n",
      "date       slice_id model_id                                         \n",
      "2020-01-01 0        linear_regression_with_features     2020-03-30   \n",
      "2020-01-02 0        linear_regression_with_features     2020-03-30   \n",
      "\n",
      "                                                    test_start_date  \\\n",
      "date       slice_id model_id                                          \n",
      "2020-01-01 0        linear_regression_with_features      2020-03-31   \n",
      "2020-01-02 0        linear_regression_with_features      2020-03-31   \n",
      "\n",
      "                                                    test_end_date  \n",
      "date       slice_id model_id                                       \n",
      "2020-01-01 0        linear_regression_with_features    2020-04-29  \n",
      "2020-01-02 0        linear_regression_with_features    2020-04-29  \n",
      "Columns: Index(['actuals', 'fitted_values', 'predictions', 'residuals', 'period_type',\n",
      "       'train_start_date', 'train_end_date', 'test_start_date',\n",
      "       'test_end_date'],\n",
      "      dtype='object')\n",
      "Data types:\n",
      " actuals                    float64\n",
      "fitted_values              float64\n",
      "predictions                float64\n",
      "residuals                  float64\n",
      "period_type                 object\n",
      "train_start_date    datetime64[ns]\n",
      "train_end_date      datetime64[ns]\n",
      "test_start_date     datetime64[ns]\n",
      "test_end_date       datetime64[ns]\n",
      "dtype: object\n",
      "First row actuals (type): <class 'numpy.float64'>\n",
      "\n",
      "Example 2: fit_resamples for a 'univariate' setup (LinearRegression will be intercept-only)\n",
      "Shape of univariate_resamples_df: (470, 9)\n",
      "Univariate resamples results head:\n",
      "                                             actuals  fitted_values  \\\n",
      "date       slice_id model_id                                         \n",
      "2020-01-01 0        intercept_only_model  49.570290      95.048221   \n",
      "2020-01-02 0        intercept_only_model  58.807933      95.048221   \n",
      "\n",
      "                                          predictions  residuals period_type  \\\n",
      "date       slice_id model_id                                                   \n",
      "2020-01-01 0        intercept_only_model          NaN -45.477931       train   \n",
      "2020-01-02 0        intercept_only_model          NaN -36.240288       train   \n",
      "\n",
      "                                         train_start_date train_end_date  \\\n",
      "date       slice_id model_id                                               \n",
      "2020-01-01 0        intercept_only_model       2020-01-01     2020-03-30   \n",
      "2020-01-02 0        intercept_only_model       2020-01-01     2020-03-30   \n",
      "\n",
      "                                         test_start_date test_end_date  \n",
      "date       slice_id model_id                                            \n",
      "2020-01-01 0        intercept_only_model      2020-03-31    2020-04-29  \n",
      "2020-01-02 0        intercept_only_model      2020-03-31    2020-04-29  \n",
      "\n",
      "--- Calculating Resample Accuracy ---\n",
      "\n",
      "Using default metrics:\n",
      "   slice_id                         model_id period_type metric_name  \\\n",
      "0         0  linear_regression_with_features        test         mae   \n",
      "1         0  linear_regression_with_features        test        rmse   \n",
      "2         1  linear_regression_with_features        test         mae   \n",
      "3         1  linear_regression_with_features        test        rmse   \n",
      "4         2  linear_regression_with_features        test         mae   \n",
      "5         2  linear_regression_with_features        test        rmse   \n",
      "6         3  linear_regression_with_features        test         mae   \n",
      "7         3  linear_regression_with_features        test        rmse   \n",
      "\n",
      "   metric_value  \n",
      "0      5.388264  \n",
      "1      7.136483  \n",
      "2      5.484206  \n",
      "3      6.738714  \n",
      "4      5.611504  \n",
      "5      6.349191  \n",
      "6      5.801853  \n",
      "7      7.425214  \n",
      "\n",
      "Using custom metrics:\n"
     ]
    },
    {
     "data": {
      "text/html": [
       "<div>\n",
       "<style scoped>\n",
       "    .dataframe tbody tr th:only-of-type {\n",
       "        vertical-align: middle;\n",
       "    }\n",
       "\n",
       "    .dataframe tbody tr th {\n",
       "        vertical-align: top;\n",
       "    }\n",
       "\n",
       "    .dataframe thead th {\n",
       "        text-align: right;\n",
       "    }\n",
       "</style>\n",
       "<table border=\"1\" class=\"dataframe\">\n",
       "  <thead>\n",
       "    <tr style=\"text-align: right;\">\n",
       "      <th></th>\n",
       "      <th>slice_id</th>\n",
       "      <th>model_id</th>\n",
       "      <th>period_type</th>\n",
       "      <th>metric_name</th>\n",
       "      <th>metric_value</th>\n",
       "    </tr>\n",
       "  </thead>\n",
       "  <tbody>\n",
       "    <tr>\n",
       "      <th>0</th>\n",
       "      <td>0</td>\n",
       "      <td>linear_regression_with_features</td>\n",
       "      <td>test</td>\n",
       "      <td>mape</td>\n",
       "      <td>3.551225</td>\n",
       "    </tr>\n",
       "    <tr>\n",
       "      <th>1</th>\n",
       "      <td>0</td>\n",
       "      <td>linear_regression_with_features</td>\n",
       "      <td>test</td>\n",
       "      <td>mse</td>\n",
       "      <td>50.929392</td>\n",
       "    </tr>\n",
       "    <tr>\n",
       "      <th>2</th>\n",
       "      <td>1</td>\n",
       "      <td>linear_regression_with_features</td>\n",
       "      <td>test</td>\n",
       "      <td>mape</td>\n",
       "      <td>2.992842</td>\n",
       "    </tr>\n",
       "    <tr>\n",
       "      <th>3</th>\n",
       "      <td>1</td>\n",
       "      <td>linear_regression_with_features</td>\n",
       "      <td>test</td>\n",
       "      <td>mse</td>\n",
       "      <td>45.410265</td>\n",
       "    </tr>\n",
       "    <tr>\n",
       "      <th>4</th>\n",
       "      <td>2</td>\n",
       "      <td>linear_regression_with_features</td>\n",
       "      <td>test</td>\n",
       "      <td>mape</td>\n",
       "      <td>2.602765</td>\n",
       "    </tr>\n",
       "    <tr>\n",
       "      <th>5</th>\n",
       "      <td>2</td>\n",
       "      <td>linear_regression_with_features</td>\n",
       "      <td>test</td>\n",
       "      <td>mse</td>\n",
       "      <td>40.312227</td>\n",
       "    </tr>\n",
       "    <tr>\n",
       "      <th>6</th>\n",
       "      <td>3</td>\n",
       "      <td>linear_regression_with_features</td>\n",
       "      <td>test</td>\n",
       "      <td>mape</td>\n",
       "      <td>2.348281</td>\n",
       "    </tr>\n",
       "    <tr>\n",
       "      <th>7</th>\n",
       "      <td>3</td>\n",
       "      <td>linear_regression_with_features</td>\n",
       "      <td>test</td>\n",
       "      <td>mse</td>\n",
       "      <td>55.133807</td>\n",
       "    </tr>\n",
       "  </tbody>\n",
       "</table>\n",
       "</div>"
      ],
      "text/plain": [
       "   slice_id                         model_id period_type metric_name  \\\n",
       "0         0  linear_regression_with_features        test        mape   \n",
       "1         0  linear_regression_with_features        test         mse   \n",
       "2         1  linear_regression_with_features        test        mape   \n",
       "3         1  linear_regression_with_features        test         mse   \n",
       "4         2  linear_regression_with_features        test        mape   \n",
       "5         2  linear_regression_with_features        test         mse   \n",
       "6         3  linear_regression_with_features        test        mape   \n",
       "7         3  linear_regression_with_features        test         mse   \n",
       "\n",
       "   metric_value  \n",
       "0      3.551225  \n",
       "1     50.929392  \n",
       "2      2.992842  \n",
       "3     45.410265  \n",
       "4      2.602765  \n",
       "5     40.312227  \n",
       "6      2.348281  \n",
       "7     55.133807  "
      ]
     },
     "execution_count": 1,
     "metadata": {},
     "output_type": "execute_result"
    }
   ],
   "source": [
    "import pandas as pd\n",
    "import numpy as np\n",
    "import matplotlib.pyplot as plt\n",
    "from sklearn.linear_model import LinearRegression\n",
    "from sklearn.metrics import mean_squared_error, mean_absolute_error\n",
    "\n",
    "# Import from your library\n",
    "from modeltime_resample_py import (\n",
    "    time_series_cv,\n",
    "    fit_resamples,\n",
    "    resample_accuracy,\n",
    "    plot_resamples\n",
    ")\n",
    "import warnings\n",
    "\n",
    "# Suppress FutureWarnings for cleaner output\n",
    "warnings.simplefilter(action='ignore', category=FutureWarning)\n",
    "warnings.simplefilter(action='ignore', category=UserWarning) # Suppress some of our own warnings for cleaner cookbook output\n",
    "\n",
    "print(\"Cookbook for modeltime_resample_py.modeling functions\\n\")\n",
    "\n",
    "# --- 1. Helper Function to Create Sample Data & Features ---\n",
    "def create_featured_ts_data(\n",
    "    start_date='2020-01-01',\n",
    "    n_periods=100,\n",
    "    freq='D',\n",
    "    as_frame=True,\n",
    "    date_col_name='date',\n",
    "    target_col_name='value'\n",
    "):\n",
    "    dates = pd.date_range(start=start_date, periods=n_periods, freq=freq)\n",
    "    # Target variable (e.g., sales)\n",
    "    base_trend = np.arange(n_periods)\n",
    "    seasonality = 10 * np.sin(2 * np.pi * base_trend / (30 if freq == 'D' else 12)) # Monthly seasonality\n",
    "    noise = np.random.randn(n_periods) * 5\n",
    "    values = base_trend + seasonality + noise + 50\n",
    "    values = np.maximum(0, values) # Ensure non-negative values like sales\n",
    "\n",
    "    if not as_frame:\n",
    "        return pd.Series(values, index=dates, name=target_col_name)\n",
    "\n",
    "    df = pd.DataFrame({date_col_name: dates, target_col_name: values})\n",
    "    \n",
    "    # Feature engineering\n",
    "    df['time_idx'] = np.arange(n_periods) # Time index\n",
    "    df['month'] = df[date_col_name].dt.month\n",
    "    df['lag_1'] = df[target_col_name].shift(1).fillna(method='bfill') # Lagged target\n",
    "\n",
    "    # Create some dummy external regressors\n",
    "    df['promo_A'] = np.random.choice([0,1], size=n_periods, p=[0.8, 0.2])\n",
    "    df['temp'] = 20 + 5 * np.sin(2 * np.pi * base_trend / (365 if freq == 'D' else 12*3)) + np.random.randn(n_periods)*2\n",
    "    \n",
    "    return df\n",
    "\n",
    "# --- 2. Generate Sample Data and CV Splits ---\n",
    "print(\"--- Generating Sample Data & CV Splits ---\")\n",
    "data_df = create_featured_ts_data(n_periods=200, freq='D')\n",
    "target_variable = 'value'\n",
    "date_column_name = 'date'\n",
    "\n",
    "# For a model with features\n",
    "feature_names = ['time_idx', 'month', 'lag_1', 'promo_A', 'temp']\n",
    "\n",
    "# Ensure no NaNs in features or target for the portion used in modeling\n",
    "data_df_cleaned = data_df.dropna(subset=[target_variable] + feature_names).reset_index(drop=True)\n",
    "\n",
    "print(f\"Cleaned data shape: {data_df_cleaned.shape}\")\n",
    "print(\"Cleaned data head:\\n\", data_df_cleaned.head())\n",
    "\n",
    "cv_splits_list = time_series_cv(\n",
    "    data_df_cleaned,\n",
    "    initial='90D',    # Initial training period\n",
    "    assess='30D',     # Assessment/test period\n",
    "    skip='30D',       # Skip period\n",
    "    cumulative=False,\n",
    "    slice_limit=4,\n",
    "    date_column=date_column_name\n",
    ")\n",
    "print(f\"\\nGenerated {len(cv_splits_list)} CV splits.\")\n",
    "\n",
    "# --- 3. Define Model and Fit Resamples ---\n",
    "print(\"\\n--- Fitting Resamples ---\")\n",
    "# Using a simple Linear Regression model from scikit-learn\n",
    "# model_specification = LinearRegression(fit_intercept=True) # fit_intercept is True by default\n",
    "\n",
    "# Test with a model that might not have fit_intercept\n",
    "class SimpleModel:\n",
    "    def __init__(self):\n",
    "        self.coef_ = None\n",
    "        self.intercept_ = None\n",
    "        self._estimator_type = \"regressor\" # For sklearn.base.is_regressor\n",
    "\n",
    "    def fit(self, X, y):\n",
    "        # Simple model: y = X.mean(axis=1) * coef + intercept\n",
    "        # This is just a placeholder to ensure fit/predict work.\n",
    "        # For LinearRegression, X would be 2D.\n",
    "        if X.empty or X.shape[1] == 0: # Handle empty X for univariate tests\n",
    "            self.coef_ = np.array([1.0]) # Dummy coef\n",
    "            self.intercept_ = np.mean(y) if len(y) > 0 else 0\n",
    "        else:\n",
    "            # Treat as if X has one feature for simplicity if many columns\n",
    "            X_mean_feature = X.mean(axis=1) if X.shape[1] > 1 else X.iloc[:,0]\n",
    "            # Simple OLS for one feature for demonstration\n",
    "            X_m = np.vstack([X_mean_feature, np.ones(len(X_mean_feature))]).T\n",
    "            try:\n",
    "                self.coef_, self.intercept_ = np.linalg.lstsq(X_m, y, rcond=None)[0]\n",
    "            except Exception: # Fallback if lstsq fails\n",
    "                self.coef_ = np.array([1.0]) \n",
    "                self.intercept_ = np.mean(y) if len(y) > 0 else 0\n",
    "        return self\n",
    "\n",
    "    def predict(self, X):\n",
    "        if X.empty or X.shape[1] == 0: # Handle empty X\n",
    "            return np.full(X.shape[0], self.intercept_ if self.intercept_ is not None else 0)\n",
    "        \n",
    "        X_mean_feature = X.mean(axis=1) if X.shape[1] > 1 else X.iloc[:,0]\n",
    "        return (X_mean_feature * (self.coef_[0] if isinstance(self.coef_, np.ndarray) else self.coef_)) + \\\n",
    "               (self.intercept_ if self.intercept_ is not None else 0)\n",
    "\n",
    "\n",
    "model_specification = LinearRegression()\n",
    "# model_specification = SimpleModel() # Example with a custom simple model\n",
    "\n",
    "# Example 1: Using feature_columns\n",
    "print(\"\\nExample 1: fit_resamples with feature_columns\")\n",
    "resamples_results_df = fit_resamples(\n",
    "    cv_splits=cv_splits_list,\n",
    "    model_spec=model_specification,\n",
    "    data=data_df_cleaned,\n",
    "    target_column=target_variable,\n",
    "    feature_columns=feature_names, # Pass the list of feature names\n",
    "    date_column=date_column_name,\n",
    "    model_id=\"linear_regression_with_features\"\n",
    ")\n",
    "\n",
    "print(f\"Shape of resamples_results_df: {resamples_results_df.shape}\")\n",
    "print(\"Resamples results head:\\n\", resamples_results_df.head(2))\n",
    "if not resamples_results_df.empty:\n",
    "    print(\"Columns:\", resamples_results_df.columns)\n",
    "    print(\"Data types:\\n\", resamples_results_df.dtypes)\n",
    "    # Inspecting one row's series\n",
    "    print(\"First row actuals (type):\", type(resamples_results_df['actuals'].iloc[0]))\n",
    "\n",
    "# Example 2: Univariate case (model must handle its own lags or use only y)\n",
    "# For LinearRegression, this will likely perform poorly without explicit lag features,\n",
    "# as X_train becomes an empty DataFrame if feature_columns=None and data is a DataFrame.\n",
    "# The current fit_resamples passes an empty DataFrame for X in this univariate context,\n",
    "# which LinearRegression can handle (it will fit an intercept-only model effectively if fit_intercept=True).\n",
    "\n",
    "print(\"\\nExample 2: fit_resamples for a 'univariate' setup (LinearRegression will be intercept-only)\")\n",
    "# We need to ensure X is not empty for LinearRegression if no features are given.\n",
    "# The current fit_resamples provides an empty X_train if feature_columns=None.\n",
    "# For this example, let's use the SimpleModel or accept intercept-only LR.\n",
    "\n",
    "# To make LinearRegression work in a \"univariate\" way (predicting mean),\n",
    "# fit_resamples currently passes an empty DataFrame.\n",
    "# If fit_intercept is True, it predicts the mean of y_train.\n",
    "univariate_model_spec = LinearRegression(fit_intercept=True)\n",
    "\n",
    "resamples_univariate_df = fit_resamples(\n",
    "    cv_splits=cv_splits_list,\n",
    "    model_spec=univariate_model_spec,\n",
    "    data=data_df_cleaned[[date_column_name, target_variable]], # Pass only target and date\n",
    "    target_column=target_variable,\n",
    "    feature_columns=None, # Explicitly None\n",
    "    date_column=date_column_name,\n",
    "    model_id=\"intercept_only_model\"\n",
    ")\n",
    "print(f\"Shape of univariate_resamples_df: {resamples_univariate_df.shape}\")\n",
    "print(\"Univariate resamples results head:\\n\", resamples_univariate_df.head(2))\n",
    "\n",
    "\n",
    "# --- 4. Calculate Resample Accuracy ---\n",
    "print(\"\\n--- Calculating Resample Accuracy ---\")\n",
    "\n",
    "# Using default metrics (MAE, RMSE)\n",
    "print(\"\\nUsing default metrics:\")\n",
    "accuracy_default_df = resample_accuracy(resamples_results_df)\n",
    "print(accuracy_default_df)\n",
    "\n",
    "# Using custom metrics\n",
    "custom_metrics = {\n",
    "    \"mape\": lambda y_true, y_pred: np.mean(np.abs((y_true - y_pred) / np.clip(np.abs(y_true), 1e-8, None))) * 100,\n",
    "    \"mse\": mean_squared_error\n",
    "}\n",
    "print(\"\\nUsing custom metrics:\")\n",
    "accuracy_custom_df = resample_accuracy(\n",
    "    resamples_results_df,\n",
    "    metrics_set=custom_metrics\n",
    ")\n",
    "\n",
    "accuracy_custom_df\n"
   ]
  },
  {
   "cell_type": "code",
   "execution_count": 2,
   "metadata": {},
   "outputs": [
    {
     "name": "stdout",
     "output_type": "stream",
     "text": [
      "\n",
      "--- Plotting Resamples ---\n",
      "Resamples plot generated for feature model.\n",
      "Resamples plot generated for intercept-only model.\n"
     ]
    }
   ],
   "source": [
    "\n",
    "# --- 5. Plot Resamples ---\n",
    "print(\"\\n--- Plotting Resamples ---\")\n",
    "if not resamples_results_df.empty:\n",
    "    try:\n",
    "        fig = plot_resamples(\n",
    "            resamples_results_df,\n",
    "            max_splits_to_plot=3, # Plot first 3 splits\n",
    "            title=\"Model Resamples: Actuals vs. Predictions (Features Model)\",\n",
    "            engine='plotly'\n",
    "        )\n",
    "        plt.show(block=False) # Show the plot (use block=True if it closes immediately)\n",
    "        print(\"Resamples plot generated for feature model.\")\n",
    "    except Exception as e:\n",
    "        print(f\"Could not generate plot_resamples for feature model: {e}\")\n",
    "\n",
    "if not resamples_univariate_df.empty:\n",
    "    try:\n",
    "        fig_uni = plot_resamples(\n",
    "            resamples_univariate_df,\n",
    "            engine='plotly',\n",
    "            show_legend=True,\n",
    "            max_splits_to_plot=2,\n",
    "            title=\"Model Resamples: Actuals vs. Predictions (Intercept-Only Model)\"\n",
    "        )\n",
    "        plt.show(block=False)\n",
    "        print(\"Resamples plot generated for intercept-only model.\")\n",
    "    except Exception as e:\n",
    "        print(f\"Could not generate plot_resamples for intercept-only model: {e}\")\n",
    "else:\n",
    "    print(\"Skipping plot for univariate model as no results were generated.\")\n"
   ]
  },
  {
   "cell_type": "code",
   "execution_count": 3,
   "metadata": {},
   "outputs": [
    {
     "data": {
      "application/vnd.plotly.v1+json": {
       "config": {
        "plotlyServerURL": "https://plot.ly"
       },
       "data": [
        {
         "line": {
          "color": "darkblue",
          "dash": "dash",
          "width": 2.5
         },
         "mode": "lines",
         "name": "Actuals",
         "type": "scatter",
         "x": [
          "2020-01-01T00:00:00",
          "2020-01-02T00:00:00",
          "2020-01-03T00:00:00",
          "2020-01-04T00:00:00",
          "2020-01-05T00:00:00",
          "2020-01-06T00:00:00",
          "2020-01-07T00:00:00",
          "2020-01-08T00:00:00",
          "2020-01-09T00:00:00",
          "2020-01-10T00:00:00",
          "2020-01-11T00:00:00",
          "2020-01-12T00:00:00",
          "2020-01-13T00:00:00",
          "2020-01-14T00:00:00",
          "2020-01-15T00:00:00",
          "2020-01-16T00:00:00",
          "2020-01-17T00:00:00",
          "2020-01-18T00:00:00",
          "2020-01-19T00:00:00",
          "2020-01-20T00:00:00",
          "2020-01-21T00:00:00",
          "2020-01-22T00:00:00",
          "2020-01-23T00:00:00",
          "2020-01-24T00:00:00",
          "2020-01-25T00:00:00",
          "2020-01-26T00:00:00",
          "2020-01-27T00:00:00",
          "2020-01-28T00:00:00",
          "2020-01-29T00:00:00",
          "2020-01-30T00:00:00",
          "2020-01-31T00:00:00",
          "2020-02-01T00:00:00",
          "2020-02-02T00:00:00",
          "2020-02-03T00:00:00",
          "2020-02-04T00:00:00",
          "2020-02-05T00:00:00",
          "2020-02-06T00:00:00",
          "2020-02-07T00:00:00",
          "2020-02-08T00:00:00",
          "2020-02-09T00:00:00",
          "2020-02-10T00:00:00",
          "2020-02-11T00:00:00",
          "2020-02-12T00:00:00",
          "2020-02-13T00:00:00",
          "2020-02-14T00:00:00",
          "2020-02-15T00:00:00",
          "2020-02-16T00:00:00",
          "2020-02-17T00:00:00",
          "2020-02-18T00:00:00",
          "2020-02-19T00:00:00",
          "2020-02-20T00:00:00",
          "2020-02-21T00:00:00",
          "2020-02-22T00:00:00",
          "2020-02-23T00:00:00",
          "2020-02-24T00:00:00",
          "2020-02-25T00:00:00",
          "2020-02-26T00:00:00",
          "2020-02-27T00:00:00",
          "2020-02-28T00:00:00",
          "2020-02-29T00:00:00",
          "2020-03-01T00:00:00",
          "2020-03-02T00:00:00",
          "2020-03-03T00:00:00",
          "2020-03-04T00:00:00",
          "2020-03-05T00:00:00",
          "2020-03-06T00:00:00",
          "2020-03-07T00:00:00",
          "2020-03-08T00:00:00",
          "2020-03-09T00:00:00",
          "2020-03-10T00:00:00",
          "2020-03-11T00:00:00",
          "2020-03-12T00:00:00",
          "2020-03-13T00:00:00",
          "2020-03-14T00:00:00",
          "2020-03-15T00:00:00",
          "2020-03-16T00:00:00",
          "2020-03-17T00:00:00",
          "2020-03-18T00:00:00",
          "2020-03-19T00:00:00",
          "2020-03-20T00:00:00",
          "2020-03-21T00:00:00",
          "2020-03-22T00:00:00",
          "2020-03-23T00:00:00",
          "2020-03-24T00:00:00",
          "2020-03-25T00:00:00",
          "2020-03-26T00:00:00",
          "2020-03-27T00:00:00",
          "2020-03-28T00:00:00",
          "2020-03-29T00:00:00",
          "2020-03-30T00:00:00",
          "2020-03-31T00:00:00",
          "2020-04-01T00:00:00",
          "2020-04-02T00:00:00",
          "2020-04-03T00:00:00",
          "2020-04-04T00:00:00",
          "2020-04-05T00:00:00",
          "2020-04-06T00:00:00",
          "2020-04-07T00:00:00",
          "2020-04-08T00:00:00",
          "2020-04-09T00:00:00",
          "2020-04-10T00:00:00",
          "2020-04-11T00:00:00",
          "2020-04-12T00:00:00",
          "2020-04-13T00:00:00",
          "2020-04-14T00:00:00",
          "2020-04-15T00:00:00",
          "2020-04-16T00:00:00",
          "2020-04-17T00:00:00",
          "2020-04-18T00:00:00",
          "2020-04-19T00:00:00",
          "2020-04-20T00:00:00",
          "2020-04-21T00:00:00",
          "2020-04-22T00:00:00",
          "2020-04-23T00:00:00",
          "2020-04-24T00:00:00",
          "2020-04-25T00:00:00",
          "2020-04-26T00:00:00",
          "2020-04-27T00:00:00",
          "2020-04-28T00:00:00",
          "2020-04-29T00:00:00"
         ],
         "xaxis": "x",
         "y": {
          "bdata": "w/1FR//ISECS3d9YamdNQCysm7Ms5kxAKk8kqaYuSkCIAznAnLZOQOCvfKamrE9ACd2WzpgTUEAttUwqw1FPQO4uq+7zQ1BAQuSGFPKIUUCc2uU7XqtQQGgU+02m71JA3CsC/rCbUkAd5wicuqpMQC7opjgGrE1AZB2CME1lUUBDB2vENX5PQEd/aqmGI09ANXJ+cNurTUBYEv8PMMtPQLrZsVKKlE9AhkZjWzsuUEAtamFwBBZQQGGFf9FTKlFAdgHLph0jT0Dcfoqed2lRQEwYcqiUyFBAkORB64wWUUCdyqFZAjJTQJ4y4uPVD1RAyPOtRyuYUECurffMmvJUQKiuv7/KUlVAMEubjLciVUBIN+fKHlhXQOipBApHDFdAIcd8ZYkAWUBQD0eqyKtZQB5LF/yIylhAjkldTgCvWUDmO06juoJZQNb0IOQcNVlAbvcW/JNjWEBcIlZLteRXQCudeFWJkVZAhSHkHD6AWEC22yvVS6VYQOJaLTTnJVlAfIcLN4GNVkD8UdMwKPNVQNRXmdi6YldAuqWo7LUDV0A+87Wa2hxZQHKqO1DK/FZAPWz4ifNuV0AjisTKfdpYQBQ73j7gi1hAtoHNtb3FWUD6RCwLc6haQHQTf8U+5VtAWG2w9WloWkD/SIV9bg9dQGqWJya3El5AemxFkGYeXkD3B1PVSI9eQATyhqoQzV5A1EDAMDuAXUAwgDhVJGpgQHI0uSI8oF9AWtNKsZCkYECdXYMDDUlgQEs5PR6lXl9A9FvLjfJOX0BlcyMcZm5gQJKdW1RHoWFABQLTzbbSXkDlih9BhFhfQEZk8ncgB15AyGmquKYqXUDWM0yJVjZeQLbB1eEzmV5A8KSwffbIXkAfJL04rN1dQC5PqOiQuGBAB6gV+IxtX0DO1GRSM0ZfQJftDoDEomBAt8kRT03fX0AppUHzdwhhQNILmA5Grl9A+g746XpnYkD+QxKO+iBhQBguTNAyJ2JAWOI6wew7YkDMmwAxYZdiQJSvZkmwMmNAZgFRPhkeZEC9aCXuRh9jQM58sit9J2RAJ/+JFJyCY0AVbUEumCpkQFu53QsGtmRAat5EaMVQYkBF7ngwzdxiQFZ7A+DuKWNAEgqV8+NDY0DE1PBv+SFiQOGXUnXGKGNA9MSTIuA5Y0AY4QSHglFjQMTJyB8JFWJAACNxne0nY0AWN+Wycn9iQO11C7O+GWRASxhCWMerY0DCWt7I9ZtiQLA0/K2+h2NANnQvMyQVZUAeejk9HpBkQAOp9tmV1WRA",
          "dtype": "f8"
         },
         "yaxis": "y"
        },
        {
         "line": {
          "color": "orange",
          "dash": "solid",
          "width": 2
         },
         "mode": "lines",
         "name": "Fitted (Train)",
         "type": "scatter",
         "x": [
          "2020-01-01T00:00:00",
          "2020-01-02T00:00:00",
          "2020-01-03T00:00:00",
          "2020-01-04T00:00:00",
          "2020-01-05T00:00:00",
          "2020-01-06T00:00:00",
          "2020-01-07T00:00:00",
          "2020-01-08T00:00:00",
          "2020-01-09T00:00:00",
          "2020-01-10T00:00:00",
          "2020-01-11T00:00:00",
          "2020-01-12T00:00:00",
          "2020-01-13T00:00:00",
          "2020-01-14T00:00:00",
          "2020-01-15T00:00:00",
          "2020-01-16T00:00:00",
          "2020-01-17T00:00:00",
          "2020-01-18T00:00:00",
          "2020-01-19T00:00:00",
          "2020-01-20T00:00:00",
          "2020-01-21T00:00:00",
          "2020-01-22T00:00:00",
          "2020-01-23T00:00:00",
          "2020-01-24T00:00:00",
          "2020-01-25T00:00:00",
          "2020-01-26T00:00:00",
          "2020-01-27T00:00:00",
          "2020-01-28T00:00:00",
          "2020-01-29T00:00:00",
          "2020-01-30T00:00:00",
          "2020-01-31T00:00:00",
          "2020-02-01T00:00:00",
          "2020-02-02T00:00:00",
          "2020-02-03T00:00:00",
          "2020-02-04T00:00:00",
          "2020-02-05T00:00:00",
          "2020-02-06T00:00:00",
          "2020-02-07T00:00:00",
          "2020-02-08T00:00:00",
          "2020-02-09T00:00:00",
          "2020-02-10T00:00:00",
          "2020-02-11T00:00:00",
          "2020-02-12T00:00:00",
          "2020-02-13T00:00:00",
          "2020-02-14T00:00:00",
          "2020-02-15T00:00:00",
          "2020-02-16T00:00:00",
          "2020-02-17T00:00:00",
          "2020-02-18T00:00:00",
          "2020-02-19T00:00:00",
          "2020-02-20T00:00:00",
          "2020-02-21T00:00:00",
          "2020-02-22T00:00:00",
          "2020-02-23T00:00:00",
          "2020-02-24T00:00:00",
          "2020-02-25T00:00:00",
          "2020-02-26T00:00:00",
          "2020-02-27T00:00:00",
          "2020-02-28T00:00:00",
          "2020-02-29T00:00:00",
          "2020-03-01T00:00:00",
          "2020-03-02T00:00:00",
          "2020-03-03T00:00:00",
          "2020-03-04T00:00:00",
          "2020-03-05T00:00:00",
          "2020-03-06T00:00:00",
          "2020-03-07T00:00:00",
          "2020-03-08T00:00:00",
          "2020-03-09T00:00:00",
          "2020-03-10T00:00:00",
          "2020-03-11T00:00:00",
          "2020-03-12T00:00:00",
          "2020-03-13T00:00:00",
          "2020-03-14T00:00:00",
          "2020-03-15T00:00:00",
          "2020-03-16T00:00:00",
          "2020-03-17T00:00:00",
          "2020-03-18T00:00:00",
          "2020-03-19T00:00:00",
          "2020-03-20T00:00:00",
          "2020-03-21T00:00:00",
          "2020-03-22T00:00:00",
          "2020-03-23T00:00:00",
          "2020-03-24T00:00:00",
          "2020-03-25T00:00:00",
          "2020-03-26T00:00:00",
          "2020-03-27T00:00:00",
          "2020-03-28T00:00:00",
          "2020-03-29T00:00:00",
          "2020-03-30T00:00:00"
         ],
         "xaxis": "x",
         "y": {
          "bdata": "mbXyqvCiS0ATvEreHmZMQJyp2r+zU05ANFhBKcUxTkDyF2XzXyRNQB8Rp1ZXQU9AwE7fJ5ZJT0ACumR81eZPQOl/vcotxU9AXItHcUMzUEA0SKMxxb5QQDaODM63eVBAxk7qdstAUUCg40+yFSJRQNhZeZi+GE9AAe4Lr4aUT0AkQiRZEfpQQFbJGQ4FT1BAKAK1UfwsUEAkWy+++v5PQJDh6gNMRVBAlKjwIsOJUEB2gnX8QbNQQIQu+aEDrlBANPj0/Rs9UUDKOj0hmINQQNTNgF6jZ1FAemUzEj8pUUAejxlFrl5RQAj4OJGjSFJAgqQId5/FUkBiFau1/zVUQDE1byKC51VAP8aFTll0VkChM0VxSSBWQG91P0RJU1dAsBWj/H80V0Cg32o5ECpYQA+9t9b6RFhA5RJ/VOQ8WEBvtIzAkrFYQPBpimyZj1hAqnBFNE59WECvfxGkq+NXQAb7hCNnCFhATI8GfE1oV0Dr+G9UqlhYQKlyMb/wZVhAtmcNyZ25WEBwUOONMZdXQChdGjVmH1dANpsGbQfDV0CRqZ8H+epXQHIzSUUCrVhAJ+EqKJ36V0ACQfkIYUZYQNi9pEkd71hAsk8JhH+RWEAO1owSkCNZQIV/gmPg0FlAqcc1ksxoXUBCNuXKlM1cQM3So2xn9V1AI3L4X+NyXkAWcJ2o6nteQCfwNvQrx15ABM+1eavdXkDcMCgCTGVeQCMq/ib9419AJNYz+cQhX0BqgggaqBVgQPhgMTcP719ADEOlu/ppX0DqW2l6EDBfQOxuslqTFGBAVuEJvvGiYEAvlL393FNfQC5ytcZgXV9A6PsMFiTRXkAJ8UZ8VMdeQPVQYbSQQl9ABgyRZ8hsX0C888fiUphfQLF8KfErOF9ATCzkRtlNYEAaEOGOd/1fQCkDnlJbul9AvCnivJdqYEDhRmjj+SlgQN5VvV4ypWBA",
          "dtype": "f8"
         },
         "yaxis": "y"
        },
        {
         "line": {
          "color": "red",
          "dash": "solid",
          "width": 2
         },
         "mode": "lines",
         "name": "Predictions (Test)",
         "type": "scatter",
         "x": [
          "2020-03-31T00:00:00",
          "2020-04-01T00:00:00",
          "2020-04-02T00:00:00",
          "2020-04-03T00:00:00",
          "2020-04-04T00:00:00",
          "2020-04-05T00:00:00",
          "2020-04-06T00:00:00",
          "2020-04-07T00:00:00",
          "2020-04-08T00:00:00",
          "2020-04-09T00:00:00",
          "2020-04-10T00:00:00",
          "2020-04-11T00:00:00",
          "2020-04-12T00:00:00",
          "2020-04-13T00:00:00",
          "2020-04-14T00:00:00",
          "2020-04-15T00:00:00",
          "2020-04-16T00:00:00",
          "2020-04-17T00:00:00",
          "2020-04-18T00:00:00",
          "2020-04-19T00:00:00",
          "2020-04-20T00:00:00",
          "2020-04-21T00:00:00",
          "2020-04-22T00:00:00",
          "2020-04-23T00:00:00",
          "2020-04-24T00:00:00",
          "2020-04-25T00:00:00",
          "2020-04-26T00:00:00",
          "2020-04-27T00:00:00",
          "2020-04-28T00:00:00",
          "2020-04-29T00:00:00"
         ],
         "xaxis": "x",
         "y": {
          "bdata": "dxNR4hUvYEBjReS7w8JiQFDu1p2NJ2JAqNGbZZO6YkDdF1Gb3cNiQLeNqrTk72JAaa3WsTo6Y0DDITh/FapjQI6lUAdGQ2NArT/3KHy7Y0AMlX8q1lNjQAVrSGDJxmNAPz3J9EEGZEAO4cQ6jABjQEoEIKpaQmNANyn3J+NiY0AXqPCt/XVjQFehsnIT/mJAIr6EyeR3Y0CrzS9ax4NjQCCnKGsMk2NAiEKOebcOY0Ctfgy6q4ZjQIl+FsP8R2NA9XqGQTUAZEDGAnpKes1jQCcabZj4WWNA+OK990LHY0BTGhUdSHxkQMlPV2dgQGRA",
          "dtype": "f8"
         },
         "yaxis": "y"
        },
        {
         "line": {
          "color": "darkblue",
          "dash": "dash",
          "width": 2.5
         },
         "mode": "lines",
         "name": "Actuals",
         "type": "scatter",
         "x": [
          "2020-01-31T00:00:00",
          "2020-02-01T00:00:00",
          "2020-02-02T00:00:00",
          "2020-02-03T00:00:00",
          "2020-02-04T00:00:00",
          "2020-02-05T00:00:00",
          "2020-02-06T00:00:00",
          "2020-02-07T00:00:00",
          "2020-02-08T00:00:00",
          "2020-02-09T00:00:00",
          "2020-02-10T00:00:00",
          "2020-02-11T00:00:00",
          "2020-02-12T00:00:00",
          "2020-02-13T00:00:00",
          "2020-02-14T00:00:00",
          "2020-02-15T00:00:00",
          "2020-02-16T00:00:00",
          "2020-02-17T00:00:00",
          "2020-02-18T00:00:00",
          "2020-02-19T00:00:00",
          "2020-02-20T00:00:00",
          "2020-02-21T00:00:00",
          "2020-02-22T00:00:00",
          "2020-02-23T00:00:00",
          "2020-02-24T00:00:00",
          "2020-02-25T00:00:00",
          "2020-02-26T00:00:00",
          "2020-02-27T00:00:00",
          "2020-02-28T00:00:00",
          "2020-02-29T00:00:00",
          "2020-03-01T00:00:00",
          "2020-03-02T00:00:00",
          "2020-03-03T00:00:00",
          "2020-03-04T00:00:00",
          "2020-03-05T00:00:00",
          "2020-03-06T00:00:00",
          "2020-03-07T00:00:00",
          "2020-03-08T00:00:00",
          "2020-03-09T00:00:00",
          "2020-03-10T00:00:00",
          "2020-03-11T00:00:00",
          "2020-03-12T00:00:00",
          "2020-03-13T00:00:00",
          "2020-03-14T00:00:00",
          "2020-03-15T00:00:00",
          "2020-03-16T00:00:00",
          "2020-03-17T00:00:00",
          "2020-03-18T00:00:00",
          "2020-03-19T00:00:00",
          "2020-03-20T00:00:00",
          "2020-03-21T00:00:00",
          "2020-03-22T00:00:00",
          "2020-03-23T00:00:00",
          "2020-03-24T00:00:00",
          "2020-03-25T00:00:00",
          "2020-03-26T00:00:00",
          "2020-03-27T00:00:00",
          "2020-03-28T00:00:00",
          "2020-03-29T00:00:00",
          "2020-03-30T00:00:00",
          "2020-03-31T00:00:00",
          "2020-04-01T00:00:00",
          "2020-04-02T00:00:00",
          "2020-04-03T00:00:00",
          "2020-04-04T00:00:00",
          "2020-04-05T00:00:00",
          "2020-04-06T00:00:00",
          "2020-04-07T00:00:00",
          "2020-04-08T00:00:00",
          "2020-04-09T00:00:00",
          "2020-04-10T00:00:00",
          "2020-04-11T00:00:00",
          "2020-04-12T00:00:00",
          "2020-04-13T00:00:00",
          "2020-04-14T00:00:00",
          "2020-04-15T00:00:00",
          "2020-04-16T00:00:00",
          "2020-04-17T00:00:00",
          "2020-04-18T00:00:00",
          "2020-04-19T00:00:00",
          "2020-04-20T00:00:00",
          "2020-04-21T00:00:00",
          "2020-04-22T00:00:00",
          "2020-04-23T00:00:00",
          "2020-04-24T00:00:00",
          "2020-04-25T00:00:00",
          "2020-04-26T00:00:00",
          "2020-04-27T00:00:00",
          "2020-04-28T00:00:00",
          "2020-04-29T00:00:00",
          "2020-04-30T00:00:00",
          "2020-05-01T00:00:00",
          "2020-05-02T00:00:00",
          "2020-05-03T00:00:00",
          "2020-05-04T00:00:00",
          "2020-05-05T00:00:00",
          "2020-05-06T00:00:00",
          "2020-05-07T00:00:00",
          "2020-05-08T00:00:00",
          "2020-05-09T00:00:00",
          "2020-05-10T00:00:00",
          "2020-05-11T00:00:00",
          "2020-05-12T00:00:00",
          "2020-05-13T00:00:00",
          "2020-05-14T00:00:00",
          "2020-05-15T00:00:00",
          "2020-05-16T00:00:00",
          "2020-05-17T00:00:00",
          "2020-05-18T00:00:00",
          "2020-05-19T00:00:00",
          "2020-05-20T00:00:00",
          "2020-05-21T00:00:00",
          "2020-05-22T00:00:00",
          "2020-05-23T00:00:00",
          "2020-05-24T00:00:00",
          "2020-05-25T00:00:00",
          "2020-05-26T00:00:00",
          "2020-05-27T00:00:00",
          "2020-05-28T00:00:00",
          "2020-05-29T00:00:00"
         ],
         "xaxis": "x2",
         "y": {
          "bdata": "yPOtRyuYUECurffMmvJUQKiuv7/KUlVAMEubjLciVUBIN+fKHlhXQOipBApHDFdAIcd8ZYkAWUBQD0eqyKtZQB5LF/yIylhAjkldTgCvWUDmO06juoJZQNb0IOQcNVlAbvcW/JNjWEBcIlZLteRXQCudeFWJkVZAhSHkHD6AWEC22yvVS6VYQOJaLTTnJVlAfIcLN4GNVkD8UdMwKPNVQNRXmdi6YldAuqWo7LUDV0A+87Wa2hxZQHKqO1DK/FZAPWz4ifNuV0AjisTKfdpYQBQ73j7gi1hAtoHNtb3FWUD6RCwLc6haQHQTf8U+5VtAWG2w9WloWkD/SIV9bg9dQGqWJya3El5AemxFkGYeXkD3B1PVSI9eQATyhqoQzV5A1EDAMDuAXUAwgDhVJGpgQHI0uSI8oF9AWtNKsZCkYECdXYMDDUlgQEs5PR6lXl9A9FvLjfJOX0BlcyMcZm5gQJKdW1RHoWFABQLTzbbSXkDlih9BhFhfQEZk8ncgB15AyGmquKYqXUDWM0yJVjZeQLbB1eEzmV5A8KSwffbIXkAfJL04rN1dQC5PqOiQuGBAB6gV+IxtX0DO1GRSM0ZfQJftDoDEomBAt8kRT03fX0AppUHzdwhhQNILmA5Grl9A+g746XpnYkD+QxKO+iBhQBguTNAyJ2JAWOI6wew7YkDMmwAxYZdiQJSvZkmwMmNAZgFRPhkeZEC9aCXuRh9jQM58sit9J2RAJ/+JFJyCY0AVbUEumCpkQFu53QsGtmRAat5EaMVQYkBF7ngwzdxiQFZ7A+DuKWNAEgqV8+NDY0DE1PBv+SFiQOGXUnXGKGNA9MSTIuA5Y0AY4QSHglFjQMTJyB8JFWJAACNxne0nY0AWN+Wycn9iQO11C7O+GWRASxhCWMerY0DCWt7I9ZtiQLA0/K2+h2NANnQvMyQVZUAeejk9HpBkQAOp9tmV1WRAXgm5UbrAZUDo5a92hpJkQA6RL1xg5WRA++To/7gBZkDX6GqD+19nQNxUnMu0FGZAIEaiRqluaEAur6SknvtmQOf/ytze/mdA5kMDvvupZ0DAnrQHyXVmQAM0gRV5y2dAMmM8j/grZ0BzrDGiMr9nQHTIgma5R2dAeGn19kOvZkBO+A/kuVVmQHIi6SOyzmZAFpvTWVNAZ0D3PeaUlqdmQIMBbBeY2GZATXtuW4WbZkAXPIfAzH1mQIgv+Rju+WVA+TiNzD+gZkDgc2Y0SHxnQF2455sPZ2ZAHLpWiqyfZ0DvwXnZaPRoQJqC+H3PqmhA",
          "dtype": "f8"
         },
         "yaxis": "y2"
        },
        {
         "line": {
          "color": "orange",
          "dash": "solid",
          "width": 2
         },
         "mode": "lines",
         "name": "Fitted (Train)",
         "type": "scatter",
         "x": [
          "2020-01-31T00:00:00",
          "2020-02-01T00:00:00",
          "2020-02-02T00:00:00",
          "2020-02-03T00:00:00",
          "2020-02-04T00:00:00",
          "2020-02-05T00:00:00",
          "2020-02-06T00:00:00",
          "2020-02-07T00:00:00",
          "2020-02-08T00:00:00",
          "2020-02-09T00:00:00",
          "2020-02-10T00:00:00",
          "2020-02-11T00:00:00",
          "2020-02-12T00:00:00",
          "2020-02-13T00:00:00",
          "2020-02-14T00:00:00",
          "2020-02-15T00:00:00",
          "2020-02-16T00:00:00",
          "2020-02-17T00:00:00",
          "2020-02-18T00:00:00",
          "2020-02-19T00:00:00",
          "2020-02-20T00:00:00",
          "2020-02-21T00:00:00",
          "2020-02-22T00:00:00",
          "2020-02-23T00:00:00",
          "2020-02-24T00:00:00",
          "2020-02-25T00:00:00",
          "2020-02-26T00:00:00",
          "2020-02-27T00:00:00",
          "2020-02-28T00:00:00",
          "2020-02-29T00:00:00",
          "2020-03-01T00:00:00",
          "2020-03-02T00:00:00",
          "2020-03-03T00:00:00",
          "2020-03-04T00:00:00",
          "2020-03-05T00:00:00",
          "2020-03-06T00:00:00",
          "2020-03-07T00:00:00",
          "2020-03-08T00:00:00",
          "2020-03-09T00:00:00",
          "2020-03-10T00:00:00",
          "2020-03-11T00:00:00",
          "2020-03-12T00:00:00",
          "2020-03-13T00:00:00",
          "2020-03-14T00:00:00",
          "2020-03-15T00:00:00",
          "2020-03-16T00:00:00",
          "2020-03-17T00:00:00",
          "2020-03-18T00:00:00",
          "2020-03-19T00:00:00",
          "2020-03-20T00:00:00",
          "2020-03-21T00:00:00",
          "2020-03-22T00:00:00",
          "2020-03-23T00:00:00",
          "2020-03-24T00:00:00",
          "2020-03-25T00:00:00",
          "2020-03-26T00:00:00",
          "2020-03-27T00:00:00",
          "2020-03-28T00:00:00",
          "2020-03-29T00:00:00",
          "2020-03-30T00:00:00",
          "2020-03-31T00:00:00",
          "2020-04-01T00:00:00",
          "2020-04-02T00:00:00",
          "2020-04-03T00:00:00",
          "2020-04-04T00:00:00",
          "2020-04-05T00:00:00",
          "2020-04-06T00:00:00",
          "2020-04-07T00:00:00",
          "2020-04-08T00:00:00",
          "2020-04-09T00:00:00",
          "2020-04-10T00:00:00",
          "2020-04-11T00:00:00",
          "2020-04-12T00:00:00",
          "2020-04-13T00:00:00",
          "2020-04-14T00:00:00",
          "2020-04-15T00:00:00",
          "2020-04-16T00:00:00",
          "2020-04-17T00:00:00",
          "2020-04-18T00:00:00",
          "2020-04-19T00:00:00",
          "2020-04-20T00:00:00",
          "2020-04-21T00:00:00",
          "2020-04-22T00:00:00",
          "2020-04-23T00:00:00",
          "2020-04-24T00:00:00",
          "2020-04-25T00:00:00",
          "2020-04-26T00:00:00",
          "2020-04-27T00:00:00",
          "2020-04-28T00:00:00",
          "2020-04-29T00:00:00"
         ],
         "xaxis": "x2",
         "y": {
          "bdata": "sXoa0Aj/UkDSNfblr2xUQF3F7AFoKFZAl2jU76uDVkBoSnepunNWQEMYFOglNVdA2qmhc6MWV0AohxsnqAJYQFVD9blwY1hA4aknDEI0WEDR90+3cqVYQA2SnoXJcVhAe5Jq0HtsWEA1IXtuNSFYQALY7HLqGlhAgawCW7t8V0DYxBSJO2FYQOKD6MpDY1hAdfyYuE/DWEAU/cu+w8BXQDtaJrBknVdA+Jkk01soWECaiFyCQxlYQCVRLoTyEllAwBptkmAuWEDSCWOb04VYQGh9LImoHFlAgilNnYYIWUBfyZNmoopZQJZGqWKA51lAwIlSDz5PXUAuGH2cSc5cQKHxLYTIx11AKKI3AZE7XkC1cymvUEFeQDYMqapfmF5AStscH7OgXkDq8bIXAk1eQB4F9CIZnl9A8e9Ym0IyX0CjDCDqR+VfQPTLiYP+v19ADlO/SINHX0BIP9WVQVtfQIEqAjH4+l9AN/MOAtt+YEDL/sz2OUVfQFkzkWzHlV9AmBCQEH8dX0C0iusCsuheQP9RXvYdVF9AXI/xjV1xX0D6N9BbXqlfQCYeMevHVl9AXYKgEUFsYEBJ9p8Z5gZgQPmFWo1lDWBAIkknJFJjYEAGH/ZO1zZgQK6yHLown2BArgnZgxFGYEAsjLYt9pNiQJVIKA1MPmJAYKMXnA+cYkCYGwTSNaFiQMQdqWGpyGJAFhgMzQYNY0DWo1tFr3RjQOhpg/yDIWNAOJ25oNmLY0DeisfBT05jQA6U61cXmmNAUvvRZsbQY0D0KGRkNfFiQMi+hMspLGNAXElIFPhDY0DASl5DyVljQMa64Kja9WJAnq3XP/1jY0BoKzRp6m9jQNzkHIFaf2NAxIIVp8MPY0DQ6b5vi3RjQJr7b+fNRmNAerSBL+ToY0CSCLq4ybZjQHJ/LunkUmNAjieMmF+1Y0B0iAzVUVdkQICHIg86HmRA",
          "dtype": "f8"
         },
         "yaxis": "y2"
        },
        {
         "line": {
          "color": "red",
          "dash": "solid",
          "width": 2
         },
         "mode": "lines",
         "name": "Predictions (Test)",
         "type": "scatter",
         "x": [
          "2020-04-30T00:00:00",
          "2020-05-01T00:00:00",
          "2020-05-02T00:00:00",
          "2020-05-03T00:00:00",
          "2020-05-04T00:00:00",
          "2020-05-05T00:00:00",
          "2020-05-06T00:00:00",
          "2020-05-07T00:00:00",
          "2020-05-08T00:00:00",
          "2020-05-09T00:00:00",
          "2020-05-10T00:00:00",
          "2020-05-11T00:00:00",
          "2020-05-12T00:00:00",
          "2020-05-13T00:00:00",
          "2020-05-14T00:00:00",
          "2020-05-15T00:00:00",
          "2020-05-16T00:00:00",
          "2020-05-17T00:00:00",
          "2020-05-18T00:00:00",
          "2020-05-19T00:00:00",
          "2020-05-20T00:00:00",
          "2020-05-21T00:00:00",
          "2020-05-22T00:00:00",
          "2020-05-23T00:00:00",
          "2020-05-24T00:00:00",
          "2020-05-25T00:00:00",
          "2020-05-26T00:00:00",
          "2020-05-27T00:00:00",
          "2020-05-28T00:00:00",
          "2020-05-29T00:00:00"
         ],
         "xaxis": "x2",
         "y": {
          "bdata": "0OVoRzVPZEAeK9G0jBdmQMaYOFm5pGVApGsTI/LgZUBMABAVdVBmQJT9QT7K1GZAdq4NmuhgZkAWWw/l9khnQNprEWBCyGZASrcu9EgvZ0A0wTEcDyRnQLBa7fv6p2ZALG59uAA1Z0CUd0qcJf5mQPZAXAXLKmdAlofdFhUXZ0CCt6EqTuVmQBTUhxyvxGZAfvNmofcAZ0Cm0FEoizVnQJJjMfCZ/GZAHFVuDvEGZ0BqV5Lmow5nQIJ2hlQo+2ZAbKa/lbrYZkCURz7w8SBnQIqGG1itfmdAUN4MZrIRZ0B88p1fhppnQFpwQxjzCGhA",
          "dtype": "f8"
         },
         "yaxis": "y2"
        },
        {
         "line": {
          "color": "darkblue",
          "dash": "dash",
          "width": 2.5
         },
         "mode": "lines",
         "name": "Actuals",
         "type": "scatter",
         "x": [
          "2020-03-01T00:00:00",
          "2020-03-02T00:00:00",
          "2020-03-03T00:00:00",
          "2020-03-04T00:00:00",
          "2020-03-05T00:00:00",
          "2020-03-06T00:00:00",
          "2020-03-07T00:00:00",
          "2020-03-08T00:00:00",
          "2020-03-09T00:00:00",
          "2020-03-10T00:00:00",
          "2020-03-11T00:00:00",
          "2020-03-12T00:00:00",
          "2020-03-13T00:00:00",
          "2020-03-14T00:00:00",
          "2020-03-15T00:00:00",
          "2020-03-16T00:00:00",
          "2020-03-17T00:00:00",
          "2020-03-18T00:00:00",
          "2020-03-19T00:00:00",
          "2020-03-20T00:00:00",
          "2020-03-21T00:00:00",
          "2020-03-22T00:00:00",
          "2020-03-23T00:00:00",
          "2020-03-24T00:00:00",
          "2020-03-25T00:00:00",
          "2020-03-26T00:00:00",
          "2020-03-27T00:00:00",
          "2020-03-28T00:00:00",
          "2020-03-29T00:00:00",
          "2020-03-30T00:00:00",
          "2020-03-31T00:00:00",
          "2020-04-01T00:00:00",
          "2020-04-02T00:00:00",
          "2020-04-03T00:00:00",
          "2020-04-04T00:00:00",
          "2020-04-05T00:00:00",
          "2020-04-06T00:00:00",
          "2020-04-07T00:00:00",
          "2020-04-08T00:00:00",
          "2020-04-09T00:00:00",
          "2020-04-10T00:00:00",
          "2020-04-11T00:00:00",
          "2020-04-12T00:00:00",
          "2020-04-13T00:00:00",
          "2020-04-14T00:00:00",
          "2020-04-15T00:00:00",
          "2020-04-16T00:00:00",
          "2020-04-17T00:00:00",
          "2020-04-18T00:00:00",
          "2020-04-19T00:00:00",
          "2020-04-20T00:00:00",
          "2020-04-21T00:00:00",
          "2020-04-22T00:00:00",
          "2020-04-23T00:00:00",
          "2020-04-24T00:00:00",
          "2020-04-25T00:00:00",
          "2020-04-26T00:00:00",
          "2020-04-27T00:00:00",
          "2020-04-28T00:00:00",
          "2020-04-29T00:00:00",
          "2020-04-30T00:00:00",
          "2020-05-01T00:00:00",
          "2020-05-02T00:00:00",
          "2020-05-03T00:00:00",
          "2020-05-04T00:00:00",
          "2020-05-05T00:00:00",
          "2020-05-06T00:00:00",
          "2020-05-07T00:00:00",
          "2020-05-08T00:00:00",
          "2020-05-09T00:00:00",
          "2020-05-10T00:00:00",
          "2020-05-11T00:00:00",
          "2020-05-12T00:00:00",
          "2020-05-13T00:00:00",
          "2020-05-14T00:00:00",
          "2020-05-15T00:00:00",
          "2020-05-16T00:00:00",
          "2020-05-17T00:00:00",
          "2020-05-18T00:00:00",
          "2020-05-19T00:00:00",
          "2020-05-20T00:00:00",
          "2020-05-21T00:00:00",
          "2020-05-22T00:00:00",
          "2020-05-23T00:00:00",
          "2020-05-24T00:00:00",
          "2020-05-25T00:00:00",
          "2020-05-26T00:00:00",
          "2020-05-27T00:00:00",
          "2020-05-28T00:00:00",
          "2020-05-29T00:00:00",
          "2020-05-30T00:00:00",
          "2020-05-31T00:00:00",
          "2020-06-01T00:00:00",
          "2020-06-02T00:00:00",
          "2020-06-03T00:00:00",
          "2020-06-04T00:00:00",
          "2020-06-05T00:00:00",
          "2020-06-06T00:00:00",
          "2020-06-07T00:00:00",
          "2020-06-08T00:00:00",
          "2020-06-09T00:00:00",
          "2020-06-10T00:00:00",
          "2020-06-11T00:00:00",
          "2020-06-12T00:00:00",
          "2020-06-13T00:00:00",
          "2020-06-14T00:00:00",
          "2020-06-15T00:00:00",
          "2020-06-16T00:00:00",
          "2020-06-17T00:00:00",
          "2020-06-18T00:00:00",
          "2020-06-19T00:00:00",
          "2020-06-20T00:00:00",
          "2020-06-21T00:00:00",
          "2020-06-22T00:00:00",
          "2020-06-23T00:00:00",
          "2020-06-24T00:00:00",
          "2020-06-25T00:00:00",
          "2020-06-26T00:00:00",
          "2020-06-27T00:00:00",
          "2020-06-28T00:00:00"
         ],
         "xaxis": "x3",
         "y": {
          "bdata": "WG2w9WloWkD/SIV9bg9dQGqWJya3El5AemxFkGYeXkD3B1PVSI9eQATyhqoQzV5A1EDAMDuAXUAwgDhVJGpgQHI0uSI8oF9AWtNKsZCkYECdXYMDDUlgQEs5PR6lXl9A9FvLjfJOX0BlcyMcZm5gQJKdW1RHoWFABQLTzbbSXkDlih9BhFhfQEZk8ncgB15AyGmquKYqXUDWM0yJVjZeQLbB1eEzmV5A8KSwffbIXkAfJL04rN1dQC5PqOiQuGBAB6gV+IxtX0DO1GRSM0ZfQJftDoDEomBAt8kRT03fX0AppUHzdwhhQNILmA5Grl9A+g746XpnYkD+QxKO+iBhQBguTNAyJ2JAWOI6wew7YkDMmwAxYZdiQJSvZkmwMmNAZgFRPhkeZEC9aCXuRh9jQM58sit9J2RAJ/+JFJyCY0AVbUEumCpkQFu53QsGtmRAat5EaMVQYkBF7ngwzdxiQFZ7A+DuKWNAEgqV8+NDY0DE1PBv+SFiQOGXUnXGKGNA9MSTIuA5Y0AY4QSHglFjQMTJyB8JFWJAACNxne0nY0AWN+Wycn9iQO11C7O+GWRASxhCWMerY0DCWt7I9ZtiQLA0/K2+h2NANnQvMyQVZUAeejk9HpBkQAOp9tmV1WRAXgm5UbrAZUDo5a92hpJkQA6RL1xg5WRA++To/7gBZkDX6GqD+19nQNxUnMu0FGZAIEaiRqluaEAur6SknvtmQOf/ytze/mdA5kMDvvupZ0DAnrQHyXVmQAM0gRV5y2dAMmM8j/grZ0BzrDGiMr9nQHTIgma5R2dAeGn19kOvZkBO+A/kuVVmQHIi6SOyzmZAFpvTWVNAZ0D3PeaUlqdmQIMBbBeY2GZATXtuW4WbZkAXPIfAzH1mQIgv+Rju+WVA+TiNzD+gZkDgc2Y0SHxnQF2455sPZ2ZAHLpWiqyfZ0DvwXnZaPRoQJqC+H3PqmhAtLXCw4bBaUCvrASfaRRqQBcKk4OaSGlAIjQBIWdiakDwaktLHU1rQMCGDNO4SWtAk/NXGrkBa0ALgCaD7aZrQOh60191JWtArD52nZHUa0AAY5f8m79rQH5h+36XnGtAZu/5Qo4XbEC2ESMyk0RqQMj9D61+8WpAWXX4doQDa0ARCIXsdkJqQKcIkS9jSGpA7lacGyeFakAylyQXOBVqQDGzz+ikYGpA+8/YA6DEa0CQSm1uwDhqQFVmGKyUTmpAEALcrLjEakDFEdLRuSxqQA5An4Cix2tAkwIQ9iHxa0BA13lP1wNsQMv6UIRz1mxA",
          "dtype": "f8"
         },
         "yaxis": "y3"
        },
        {
         "line": {
          "color": "orange",
          "dash": "solid",
          "width": 2
         },
         "mode": "lines",
         "name": "Fitted (Train)",
         "type": "scatter",
         "x": [
          "2020-03-01T00:00:00",
          "2020-03-02T00:00:00",
          "2020-03-03T00:00:00",
          "2020-03-04T00:00:00",
          "2020-03-05T00:00:00",
          "2020-03-06T00:00:00",
          "2020-03-07T00:00:00",
          "2020-03-08T00:00:00",
          "2020-03-09T00:00:00",
          "2020-03-10T00:00:00",
          "2020-03-11T00:00:00",
          "2020-03-12T00:00:00",
          "2020-03-13T00:00:00",
          "2020-03-14T00:00:00",
          "2020-03-15T00:00:00",
          "2020-03-16T00:00:00",
          "2020-03-17T00:00:00",
          "2020-03-18T00:00:00",
          "2020-03-19T00:00:00",
          "2020-03-20T00:00:00",
          "2020-03-21T00:00:00",
          "2020-03-22T00:00:00",
          "2020-03-23T00:00:00",
          "2020-03-24T00:00:00",
          "2020-03-25T00:00:00",
          "2020-03-26T00:00:00",
          "2020-03-27T00:00:00",
          "2020-03-28T00:00:00",
          "2020-03-29T00:00:00",
          "2020-03-30T00:00:00",
          "2020-03-31T00:00:00",
          "2020-04-01T00:00:00",
          "2020-04-02T00:00:00",
          "2020-04-03T00:00:00",
          "2020-04-04T00:00:00",
          "2020-04-05T00:00:00",
          "2020-04-06T00:00:00",
          "2020-04-07T00:00:00",
          "2020-04-08T00:00:00",
          "2020-04-09T00:00:00",
          "2020-04-10T00:00:00",
          "2020-04-11T00:00:00",
          "2020-04-12T00:00:00",
          "2020-04-13T00:00:00",
          "2020-04-14T00:00:00",
          "2020-04-15T00:00:00",
          "2020-04-16T00:00:00",
          "2020-04-17T00:00:00",
          "2020-04-18T00:00:00",
          "2020-04-19T00:00:00",
          "2020-04-20T00:00:00",
          "2020-04-21T00:00:00",
          "2020-04-22T00:00:00",
          "2020-04-23T00:00:00",
          "2020-04-24T00:00:00",
          "2020-04-25T00:00:00",
          "2020-04-26T00:00:00",
          "2020-04-27T00:00:00",
          "2020-04-28T00:00:00",
          "2020-04-29T00:00:00",
          "2020-04-30T00:00:00",
          "2020-05-01T00:00:00",
          "2020-05-02T00:00:00",
          "2020-05-03T00:00:00",
          "2020-05-04T00:00:00",
          "2020-05-05T00:00:00",
          "2020-05-06T00:00:00",
          "2020-05-07T00:00:00",
          "2020-05-08T00:00:00",
          "2020-05-09T00:00:00",
          "2020-05-10T00:00:00",
          "2020-05-11T00:00:00",
          "2020-05-12T00:00:00",
          "2020-05-13T00:00:00",
          "2020-05-14T00:00:00",
          "2020-05-15T00:00:00",
          "2020-05-16T00:00:00",
          "2020-05-17T00:00:00",
          "2020-05-18T00:00:00",
          "2020-05-19T00:00:00",
          "2020-05-20T00:00:00",
          "2020-05-21T00:00:00",
          "2020-05-22T00:00:00",
          "2020-05-23T00:00:00",
          "2020-05-24T00:00:00",
          "2020-05-25T00:00:00",
          "2020-05-26T00:00:00",
          "2020-05-27T00:00:00",
          "2020-05-28T00:00:00",
          "2020-05-29T00:00:00"
         ],
         "xaxis": "x3",
         "y": {
          "bdata": "UZUoR839XEA2LvAcVnZcQFaxp4u9al1AYmT85kPuXUD0kjbQzuZdQEpRByCVbF5AGkVLgIFTXkDAU8Malx5eQNkAYbT5jF9A2bezYYZbX0CLTX0JsNxfQMwWAkH/zF9AGkffT6Q2X0CfEOiW2qNfQMwpmVlzAmBAFrEoMcWWYEA+HRViCjZfQPpZbf8W6l9AF2jCYk1iX0DosOlf9vheQBpBiH4ZZV9AvS8g8ihrX0DR59msd8dfQArOoi0mZ19AsrcTnvS3YED9zobhqRpgQE7J5PUAT2BAGp33qeJyYECyrLXISlhgQCI3bbbBvmBANDG0yep3YEBbC0XssmtiQOe+sEN+WmJACFrFpICNYkCbI3enC4hiQBLTu0v1sGJAM8xAqvX+YkDUv1puN3ljQNkwssVnKGNAtHEr3E6bY0B8vRaF/nVjQEdQRiqgq2NA27yfmFLhY0CEJhkTNvNiQBSWR1eMMmNAL4y2vts9Y0DRHCjuqVxjQPowOEVx9WJATU1eNtdxY0Dwwk3M1n1jQMis78TqjmNAKSqTPCAZY0CHHRAlF3pjQDFPtUuOV2NAo4WH6ycHZEB/QjLG6L5jQEDmB5Y/T2NAqNiQs0u9Y0BrldrepXJkQGRZVOYGJWRAKNRqonFuZEA2khhaafJlQFWOHhBgbmVAfiiLBDrvZUAZH2OKC0FmQNzDUsnNx2ZAk0Mo8wNPZkAfxCgv3kZnQHmqCsyl5mZAyIs5X5MwZ0ARrl9w1zZnQHUjSaghoGZAkNP9zh4/Z0BsQc7PLANnQKVjev7fHWdATaUqwbkgZ0C4HPwDQ+1mQIQmjfuh52ZAh0hyHGoPZ0CNEI5lX0xnQBcz1FBkCGdACssRX6sBZ0BYOUsRryhnQDvKBq/EAWdAxo5FV+MLZ0BXsE1eBjpnQBgKRx13pGdA9pos8jwiZ0C6qc/NLsVnQE32x++GHWhA",
          "dtype": "f8"
         },
         "yaxis": "y3"
        },
        {
         "line": {
          "color": "red",
          "dash": "solid",
          "width": 2
         },
         "mode": "lines",
         "name": "Predictions (Test)",
         "type": "scatter",
         "x": [
          "2020-05-30T00:00:00",
          "2020-05-31T00:00:00",
          "2020-06-01T00:00:00",
          "2020-06-02T00:00:00",
          "2020-06-03T00:00:00",
          "2020-06-04T00:00:00",
          "2020-06-05T00:00:00",
          "2020-06-06T00:00:00",
          "2020-06-07T00:00:00",
          "2020-06-08T00:00:00",
          "2020-06-09T00:00:00",
          "2020-06-10T00:00:00",
          "2020-06-11T00:00:00",
          "2020-06-12T00:00:00",
          "2020-06-13T00:00:00",
          "2020-06-14T00:00:00",
          "2020-06-15T00:00:00",
          "2020-06-16T00:00:00",
          "2020-06-17T00:00:00",
          "2020-06-18T00:00:00",
          "2020-06-19T00:00:00",
          "2020-06-20T00:00:00",
          "2020-06-21T00:00:00",
          "2020-06-22T00:00:00",
          "2020-06-23T00:00:00",
          "2020-06-24T00:00:00",
          "2020-06-25T00:00:00",
          "2020-06-26T00:00:00",
          "2020-06-27T00:00:00",
          "2020-06-28T00:00:00"
         ],
         "xaxis": "x3",
         "y": {
          "bdata": "gVc2ldExaEBiJWNpUvNoQBDOKIH7BGpA3marAGOnaUA+r2rCThFqQGhfQq9YsGpAOrxr/4q6akAj9eaaJplqQNBbwrX91GpAgs/P27LCakC46TrYpvZqQOpQ5Gxk12pADl+7B9DvakAoMqzhiQ9rQKZAOEadYmpA35Xr27PKakBpKJ+1J91qQPNRX4q2l2pAp76J7Om4akB1hJTMsa9qQIvTZM9oiWpAfL0mpx/SakCgLHFgUIFrQDaWuh4SyWpA0pt9yPrYakB7qXBb4wJrQKaE6Jqi7WpAxsH/qzqXa0DCHkZYAZprQHB6gTFe52tA",
          "dtype": "f8"
         },
         "yaxis": "y3"
        }
       ],
       "layout": {
        "annotations": [
         {
          "font": {
           "size": 16
          },
          "showarrow": false,
          "text": "Slice ID: 0, Model: linear_regression_with_features",
          "x": 0.5,
          "xanchor": "center",
          "xref": "paper",
          "y": 1,
          "yanchor": "bottom",
          "yref": "paper"
         },
         {
          "font": {
           "size": 16
          },
          "showarrow": false,
          "text": "Slice ID: 1, Model: linear_regression_with_features",
          "x": 0.5,
          "xanchor": "center",
          "xref": "paper",
          "y": 0.6111111111111112,
          "yanchor": "bottom",
          "yref": "paper"
         },
         {
          "font": {
           "size": 16
          },
          "showarrow": false,
          "text": "Slice ID: 2, Model: linear_regression_with_features",
          "x": 0.5,
          "xanchor": "center",
          "xref": "paper",
          "y": 0.22222222222222224,
          "yanchor": "bottom",
          "yref": "paper"
         }
        ],
        "height": 900,
        "showlegend": true,
        "template": {
         "data": {
          "bar": [
           {
            "error_x": {
             "color": "#2a3f5f"
            },
            "error_y": {
             "color": "#2a3f5f"
            },
            "marker": {
             "line": {
              "color": "#E5ECF6",
              "width": 0.5
             },
             "pattern": {
              "fillmode": "overlay",
              "size": 10,
              "solidity": 0.2
             }
            },
            "type": "bar"
           }
          ],
          "barpolar": [
           {
            "marker": {
             "line": {
              "color": "#E5ECF6",
              "width": 0.5
             },
             "pattern": {
              "fillmode": "overlay",
              "size": 10,
              "solidity": 0.2
             }
            },
            "type": "barpolar"
           }
          ],
          "carpet": [
           {
            "aaxis": {
             "endlinecolor": "#2a3f5f",
             "gridcolor": "white",
             "linecolor": "white",
             "minorgridcolor": "white",
             "startlinecolor": "#2a3f5f"
            },
            "baxis": {
             "endlinecolor": "#2a3f5f",
             "gridcolor": "white",
             "linecolor": "white",
             "minorgridcolor": "white",
             "startlinecolor": "#2a3f5f"
            },
            "type": "carpet"
           }
          ],
          "choropleth": [
           {
            "colorbar": {
             "outlinewidth": 0,
             "ticks": ""
            },
            "type": "choropleth"
           }
          ],
          "contour": [
           {
            "colorbar": {
             "outlinewidth": 0,
             "ticks": ""
            },
            "colorscale": [
             [
              0,
              "#0d0887"
             ],
             [
              0.1111111111111111,
              "#46039f"
             ],
             [
              0.2222222222222222,
              "#7201a8"
             ],
             [
              0.3333333333333333,
              "#9c179e"
             ],
             [
              0.4444444444444444,
              "#bd3786"
             ],
             [
              0.5555555555555556,
              "#d8576b"
             ],
             [
              0.6666666666666666,
              "#ed7953"
             ],
             [
              0.7777777777777778,
              "#fb9f3a"
             ],
             [
              0.8888888888888888,
              "#fdca26"
             ],
             [
              1,
              "#f0f921"
             ]
            ],
            "type": "contour"
           }
          ],
          "contourcarpet": [
           {
            "colorbar": {
             "outlinewidth": 0,
             "ticks": ""
            },
            "type": "contourcarpet"
           }
          ],
          "heatmap": [
           {
            "colorbar": {
             "outlinewidth": 0,
             "ticks": ""
            },
            "colorscale": [
             [
              0,
              "#0d0887"
             ],
             [
              0.1111111111111111,
              "#46039f"
             ],
             [
              0.2222222222222222,
              "#7201a8"
             ],
             [
              0.3333333333333333,
              "#9c179e"
             ],
             [
              0.4444444444444444,
              "#bd3786"
             ],
             [
              0.5555555555555556,
              "#d8576b"
             ],
             [
              0.6666666666666666,
              "#ed7953"
             ],
             [
              0.7777777777777778,
              "#fb9f3a"
             ],
             [
              0.8888888888888888,
              "#fdca26"
             ],
             [
              1,
              "#f0f921"
             ]
            ],
            "type": "heatmap"
           }
          ],
          "histogram": [
           {
            "marker": {
             "pattern": {
              "fillmode": "overlay",
              "size": 10,
              "solidity": 0.2
             }
            },
            "type": "histogram"
           }
          ],
          "histogram2d": [
           {
            "colorbar": {
             "outlinewidth": 0,
             "ticks": ""
            },
            "colorscale": [
             [
              0,
              "#0d0887"
             ],
             [
              0.1111111111111111,
              "#46039f"
             ],
             [
              0.2222222222222222,
              "#7201a8"
             ],
             [
              0.3333333333333333,
              "#9c179e"
             ],
             [
              0.4444444444444444,
              "#bd3786"
             ],
             [
              0.5555555555555556,
              "#d8576b"
             ],
             [
              0.6666666666666666,
              "#ed7953"
             ],
             [
              0.7777777777777778,
              "#fb9f3a"
             ],
             [
              0.8888888888888888,
              "#fdca26"
             ],
             [
              1,
              "#f0f921"
             ]
            ],
            "type": "histogram2d"
           }
          ],
          "histogram2dcontour": [
           {
            "colorbar": {
             "outlinewidth": 0,
             "ticks": ""
            },
            "colorscale": [
             [
              0,
              "#0d0887"
             ],
             [
              0.1111111111111111,
              "#46039f"
             ],
             [
              0.2222222222222222,
              "#7201a8"
             ],
             [
              0.3333333333333333,
              "#9c179e"
             ],
             [
              0.4444444444444444,
              "#bd3786"
             ],
             [
              0.5555555555555556,
              "#d8576b"
             ],
             [
              0.6666666666666666,
              "#ed7953"
             ],
             [
              0.7777777777777778,
              "#fb9f3a"
             ],
             [
              0.8888888888888888,
              "#fdca26"
             ],
             [
              1,
              "#f0f921"
             ]
            ],
            "type": "histogram2dcontour"
           }
          ],
          "mesh3d": [
           {
            "colorbar": {
             "outlinewidth": 0,
             "ticks": ""
            },
            "type": "mesh3d"
           }
          ],
          "parcoords": [
           {
            "line": {
             "colorbar": {
              "outlinewidth": 0,
              "ticks": ""
             }
            },
            "type": "parcoords"
           }
          ],
          "pie": [
           {
            "automargin": true,
            "type": "pie"
           }
          ],
          "scatter": [
           {
            "fillpattern": {
             "fillmode": "overlay",
             "size": 10,
             "solidity": 0.2
            },
            "type": "scatter"
           }
          ],
          "scatter3d": [
           {
            "line": {
             "colorbar": {
              "outlinewidth": 0,
              "ticks": ""
             }
            },
            "marker": {
             "colorbar": {
              "outlinewidth": 0,
              "ticks": ""
             }
            },
            "type": "scatter3d"
           }
          ],
          "scattercarpet": [
           {
            "marker": {
             "colorbar": {
              "outlinewidth": 0,
              "ticks": ""
             }
            },
            "type": "scattercarpet"
           }
          ],
          "scattergeo": [
           {
            "marker": {
             "colorbar": {
              "outlinewidth": 0,
              "ticks": ""
             }
            },
            "type": "scattergeo"
           }
          ],
          "scattergl": [
           {
            "marker": {
             "colorbar": {
              "outlinewidth": 0,
              "ticks": ""
             }
            },
            "type": "scattergl"
           }
          ],
          "scattermap": [
           {
            "marker": {
             "colorbar": {
              "outlinewidth": 0,
              "ticks": ""
             }
            },
            "type": "scattermap"
           }
          ],
          "scattermapbox": [
           {
            "marker": {
             "colorbar": {
              "outlinewidth": 0,
              "ticks": ""
             }
            },
            "type": "scattermapbox"
           }
          ],
          "scatterpolar": [
           {
            "marker": {
             "colorbar": {
              "outlinewidth": 0,
              "ticks": ""
             }
            },
            "type": "scatterpolar"
           }
          ],
          "scatterpolargl": [
           {
            "marker": {
             "colorbar": {
              "outlinewidth": 0,
              "ticks": ""
             }
            },
            "type": "scatterpolargl"
           }
          ],
          "scatterternary": [
           {
            "marker": {
             "colorbar": {
              "outlinewidth": 0,
              "ticks": ""
             }
            },
            "type": "scatterternary"
           }
          ],
          "surface": [
           {
            "colorbar": {
             "outlinewidth": 0,
             "ticks": ""
            },
            "colorscale": [
             [
              0,
              "#0d0887"
             ],
             [
              0.1111111111111111,
              "#46039f"
             ],
             [
              0.2222222222222222,
              "#7201a8"
             ],
             [
              0.3333333333333333,
              "#9c179e"
             ],
             [
              0.4444444444444444,
              "#bd3786"
             ],
             [
              0.5555555555555556,
              "#d8576b"
             ],
             [
              0.6666666666666666,
              "#ed7953"
             ],
             [
              0.7777777777777778,
              "#fb9f3a"
             ],
             [
              0.8888888888888888,
              "#fdca26"
             ],
             [
              1,
              "#f0f921"
             ]
            ],
            "type": "surface"
           }
          ],
          "table": [
           {
            "cells": {
             "fill": {
              "color": "#EBF0F8"
             },
             "line": {
              "color": "white"
             }
            },
            "header": {
             "fill": {
              "color": "#C8D4E3"
             },
             "line": {
              "color": "white"
             }
            },
            "type": "table"
           }
          ]
         },
         "layout": {
          "annotationdefaults": {
           "arrowcolor": "#2a3f5f",
           "arrowhead": 0,
           "arrowwidth": 1
          },
          "autotypenumbers": "strict",
          "coloraxis": {
           "colorbar": {
            "outlinewidth": 0,
            "ticks": ""
           }
          },
          "colorscale": {
           "diverging": [
            [
             0,
             "#8e0152"
            ],
            [
             0.1,
             "#c51b7d"
            ],
            [
             0.2,
             "#de77ae"
            ],
            [
             0.3,
             "#f1b6da"
            ],
            [
             0.4,
             "#fde0ef"
            ],
            [
             0.5,
             "#f7f7f7"
            ],
            [
             0.6,
             "#e6f5d0"
            ],
            [
             0.7,
             "#b8e186"
            ],
            [
             0.8,
             "#7fbc41"
            ],
            [
             0.9,
             "#4d9221"
            ],
            [
             1,
             "#276419"
            ]
           ],
           "sequential": [
            [
             0,
             "#0d0887"
            ],
            [
             0.1111111111111111,
             "#46039f"
            ],
            [
             0.2222222222222222,
             "#7201a8"
            ],
            [
             0.3333333333333333,
             "#9c179e"
            ],
            [
             0.4444444444444444,
             "#bd3786"
            ],
            [
             0.5555555555555556,
             "#d8576b"
            ],
            [
             0.6666666666666666,
             "#ed7953"
            ],
            [
             0.7777777777777778,
             "#fb9f3a"
            ],
            [
             0.8888888888888888,
             "#fdca26"
            ],
            [
             1,
             "#f0f921"
            ]
           ],
           "sequentialminus": [
            [
             0,
             "#0d0887"
            ],
            [
             0.1111111111111111,
             "#46039f"
            ],
            [
             0.2222222222222222,
             "#7201a8"
            ],
            [
             0.3333333333333333,
             "#9c179e"
            ],
            [
             0.4444444444444444,
             "#bd3786"
            ],
            [
             0.5555555555555556,
             "#d8576b"
            ],
            [
             0.6666666666666666,
             "#ed7953"
            ],
            [
             0.7777777777777778,
             "#fb9f3a"
            ],
            [
             0.8888888888888888,
             "#fdca26"
            ],
            [
             1,
             "#f0f921"
            ]
           ]
          },
          "colorway": [
           "#636efa",
           "#EF553B",
           "#00cc96",
           "#ab63fa",
           "#FFA15A",
           "#19d3f3",
           "#FF6692",
           "#B6E880",
           "#FF97FF",
           "#FECB52"
          ],
          "font": {
           "color": "#2a3f5f"
          },
          "geo": {
           "bgcolor": "white",
           "lakecolor": "white",
           "landcolor": "#E5ECF6",
           "showlakes": true,
           "showland": true,
           "subunitcolor": "white"
          },
          "hoverlabel": {
           "align": "left"
          },
          "hovermode": "closest",
          "mapbox": {
           "style": "light"
          },
          "paper_bgcolor": "white",
          "plot_bgcolor": "#E5ECF6",
          "polar": {
           "angularaxis": {
            "gridcolor": "white",
            "linecolor": "white",
            "ticks": ""
           },
           "bgcolor": "#E5ECF6",
           "radialaxis": {
            "gridcolor": "white",
            "linecolor": "white",
            "ticks": ""
           }
          },
          "scene": {
           "xaxis": {
            "backgroundcolor": "#E5ECF6",
            "gridcolor": "white",
            "gridwidth": 2,
            "linecolor": "white",
            "showbackground": true,
            "ticks": "",
            "zerolinecolor": "white"
           },
           "yaxis": {
            "backgroundcolor": "#E5ECF6",
            "gridcolor": "white",
            "gridwidth": 2,
            "linecolor": "white",
            "showbackground": true,
            "ticks": "",
            "zerolinecolor": "white"
           },
           "zaxis": {
            "backgroundcolor": "#E5ECF6",
            "gridcolor": "white",
            "gridwidth": 2,
            "linecolor": "white",
            "showbackground": true,
            "ticks": "",
            "zerolinecolor": "white"
           }
          },
          "shapedefaults": {
           "line": {
            "color": "#2a3f5f"
           }
          },
          "ternary": {
           "aaxis": {
            "gridcolor": "white",
            "linecolor": "white",
            "ticks": ""
           },
           "baxis": {
            "gridcolor": "white",
            "linecolor": "white",
            "ticks": ""
           },
           "bgcolor": "#E5ECF6",
           "caxis": {
            "gridcolor": "white",
            "linecolor": "white",
            "ticks": ""
           }
          },
          "title": {
           "x": 0.05
          },
          "xaxis": {
           "automargin": true,
           "gridcolor": "white",
           "linecolor": "white",
           "ticks": "",
           "title": {
            "standoff": 15
           },
           "zerolinecolor": "white",
           "zerolinewidth": 2
          },
          "yaxis": {
           "automargin": true,
           "gridcolor": "white",
           "linecolor": "white",
           "ticks": "",
           "title": {
            "standoff": 15
           },
           "zerolinecolor": "white",
           "zerolinewidth": 2
          }
         }
        },
        "title": {
         "text": "Model Resamples: Actuals vs. Predictions (Features Model)"
        },
        "xaxis": {
         "anchor": "y",
         "domain": [
          0,
          1
         ],
         "title": {
          "text": "Date"
         }
        },
        "xaxis2": {
         "anchor": "y2",
         "domain": [
          0,
          1
         ],
         "title": {
          "text": "Date"
         }
        },
        "xaxis3": {
         "anchor": "y3",
         "domain": [
          0,
          1
         ],
         "title": {
          "text": "Date"
         }
        },
        "yaxis": {
         "anchor": "x",
         "domain": [
          0.7777777777777778,
          1
         ],
         "title": {
          "text": "Value"
         }
        },
        "yaxis2": {
         "anchor": "x2",
         "domain": [
          0.3888888888888889,
          0.6111111111111112
         ],
         "title": {
          "text": "Value"
         }
        },
        "yaxis3": {
         "anchor": "x3",
         "domain": [
          0,
          0.22222222222222224
         ],
         "title": {
          "text": "Value"
         }
        }
       }
      }
     },
     "metadata": {},
     "output_type": "display_data"
    }
   ],
   "source": [
    "fig"
   ]
  },
  {
   "cell_type": "code",
   "execution_count": 4,
   "metadata": {},
   "outputs": [
    {
     "name": "stdout",
     "output_type": "stream",
     "text": [
      "\n",
      "--- Modeling Cookbook Finished ---\n"
     ]
    }
   ],
   "source": [
    "\n",
    "\n",
    "print(\"\\n--- Modeling Cookbook Finished ---\")\n",
    "# Keep plots open if running as a script\n",
    "if __name__ == '__main__':\n",
    "    plt.show() "
   ]
  }
 ],
 "metadata": {
  "kernelspec": {
   "display_name": "base",
   "language": "python",
   "name": "python3"
  },
  "language_info": {
   "codemirror_mode": {
    "name": "ipython",
    "version": 3
   },
   "file_extension": ".py",
   "mimetype": "text/x-python",
   "name": "python",
   "nbconvert_exporter": "python",
   "pygments_lexer": "ipython3",
   "version": "3.10.14"
  }
 },
 "nbformat": 4,
 "nbformat_minor": 2
}
